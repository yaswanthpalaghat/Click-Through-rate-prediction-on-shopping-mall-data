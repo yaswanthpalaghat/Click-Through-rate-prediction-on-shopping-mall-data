{
 "cells": [
  {
   "cell_type": "code",
   "execution_count": 57,
   "metadata": {},
   "outputs": [],
   "source": [
    "# data analysis and wrangling\n",
    "import pandas as pd\n",
    "import numpy as np\n",
    "from datetime import datetime, timedelta, timezone\n",
    "\n",
    "# visualization\n",
    "import matplotlib.pyplot as plt\n",
    "import seaborn as sns\n",
    "\n",
    "# machine learning\n",
    "from sklearn.linear_model import LogisticRegression\n",
    "from sklearn.feature_selection import RFE\n",
    "from sklearn.cross_validation import train_test_split\n",
    "from sklearn import metrics\n",
    "%matplotlib inline\n"
   ]
  },
  {
   "cell_type": "code",
   "execution_count": 6,
   "metadata": {},
   "outputs": [],
   "source": [
    "# Load Data\n",
    "df = pd.read_csv('ctrdata.csv', index_col=0)"
   ]
  },
  {
   "cell_type": "code",
   "execution_count": 7,
   "metadata": {},
   "outputs": [
    {
     "data": {
      "text/html": [
       "<div>\n",
       "<style scoped>\n",
       "    .dataframe tbody tr th:only-of-type {\n",
       "        vertical-align: middle;\n",
       "    }\n",
       "\n",
       "    .dataframe tbody tr th {\n",
       "        vertical-align: top;\n",
       "    }\n",
       "\n",
       "    .dataframe thead th {\n",
       "        text-align: right;\n",
       "    }\n",
       "</style>\n",
       "<table border=\"1\" class=\"dataframe\">\n",
       "  <thead>\n",
       "    <tr style=\"text-align: right;\">\n",
       "      <th></th>\n",
       "      <th>Action</th>\n",
       "      <th>ID</th>\n",
       "      <th>ActionTime</th>\n",
       "      <th>Website</th>\n",
       "      <th>BannerSize</th>\n",
       "      <th>Brand</th>\n",
       "      <th>Color</th>\n",
       "      <th>StayTime</th>\n",
       "    </tr>\n",
       "  </thead>\n",
       "  <tbody>\n",
       "    <tr>\n",
       "      <th>1</th>\n",
       "      <td>View</td>\n",
       "      <td>AMsySZZ_MC-gwE-94t_QLt3kIbXh</td>\n",
       "      <td>1501207373254968</td>\n",
       "      <td>Facebook</td>\n",
       "      <td>728x90</td>\n",
       "      <td>JoeFresh</td>\n",
       "      <td>Pink</td>\n",
       "      <td>1.730627</td>\n",
       "    </tr>\n",
       "    <tr>\n",
       "      <th>2</th>\n",
       "      <td>View</td>\n",
       "      <td>AMsySZZ_MC-gwE-94t_QLt3kIbXh</td>\n",
       "      <td>1501209660836689</td>\n",
       "      <td>Facebook</td>\n",
       "      <td>160x600</td>\n",
       "      <td>JoeFresh</td>\n",
       "      <td>Blue</td>\n",
       "      <td>0.615033</td>\n",
       "    </tr>\n",
       "    <tr>\n",
       "      <th>3</th>\n",
       "      <td>View</td>\n",
       "      <td>AMsySZZ_MC-gwE-94t_QLt3kIbXh</td>\n",
       "      <td>1501209717498078</td>\n",
       "      <td>Facebook</td>\n",
       "      <td>160x600</td>\n",
       "      <td>Disney</td>\n",
       "      <td>Gold</td>\n",
       "      <td>1.232917</td>\n",
       "    </tr>\n",
       "    <tr>\n",
       "      <th>4</th>\n",
       "      <td>View</td>\n",
       "      <td>AMsySZZ_MC-gwE-94t_QLt3kIbXh</td>\n",
       "      <td>1502831370458655</td>\n",
       "      <td>Other</td>\n",
       "      <td>300x250</td>\n",
       "      <td>Zara</td>\n",
       "      <td>Pink</td>\n",
       "      <td>1.004084</td>\n",
       "    </tr>\n",
       "    <tr>\n",
       "      <th>5</th>\n",
       "      <td>Click</td>\n",
       "      <td>AMsySZZ_MC-gwE-94t_QLt3kIbXh</td>\n",
       "      <td>1502831506975457</td>\n",
       "      <td>Other</td>\n",
       "      <td>300x250</td>\n",
       "      <td>Carter's</td>\n",
       "      <td>White</td>\n",
       "      <td>0.204201</td>\n",
       "    </tr>\n",
       "  </tbody>\n",
       "</table>\n",
       "</div>"
      ],
      "text/plain": [
       "  Action                            ID        ActionTime   Website BannerSize  \\\n",
       "1   View  AMsySZZ_MC-gwE-94t_QLt3kIbXh  1501207373254968  Facebook     728x90   \n",
       "2   View  AMsySZZ_MC-gwE-94t_QLt3kIbXh  1501209660836689  Facebook    160x600   \n",
       "3   View  AMsySZZ_MC-gwE-94t_QLt3kIbXh  1501209717498078  Facebook    160x600   \n",
       "4   View  AMsySZZ_MC-gwE-94t_QLt3kIbXh  1502831370458655     Other    300x250   \n",
       "5  Click  AMsySZZ_MC-gwE-94t_QLt3kIbXh  1502831506975457     Other    300x250   \n",
       "\n",
       "      Brand  Color  StayTime  \n",
       "1  JoeFresh   Pink  1.730627  \n",
       "2  JoeFresh   Blue  0.615033  \n",
       "3    Disney   Gold  1.232917  \n",
       "4      Zara   Pink  1.004084  \n",
       "5  Carter's  White  0.204201  "
      ]
     },
     "execution_count": 7,
     "metadata": {},
     "output_type": "execute_result"
    }
   ],
   "source": [
    "df.head()"
   ]
  },
  {
   "cell_type": "code",
   "execution_count": 8,
   "metadata": {},
   "outputs": [
    {
     "data": {
      "text/plain": [
       "Index(['Action', 'ID', 'ActionTime', 'Website', 'BannerSize', 'Brand', 'Color',\n",
       "       'StayTime'],\n",
       "      dtype='object')"
      ]
     },
     "execution_count": 8,
     "metadata": {},
     "output_type": "execute_result"
    }
   ],
   "source": [
    "df.columns"
   ]
  },
  {
   "cell_type": "code",
   "execution_count": 9,
   "metadata": {
    "scrolled": true
   },
   "outputs": [
    {
     "name": "stdout",
     "output_type": "stream",
     "text": [
      "<class 'pandas.core.frame.DataFrame'>\n",
      "Int64Index: 100000 entries, 1 to 100000\n",
      "Data columns (total 8 columns):\n",
      "Action        100000 non-null object\n",
      "ID            100000 non-null object\n",
      "ActionTime    100000 non-null int64\n",
      "Website       100000 non-null object\n",
      "BannerSize    100000 non-null object\n",
      "Brand         100000 non-null object\n",
      "Color         100000 non-null object\n",
      "StayTime      99993 non-null float64\n",
      "dtypes: float64(1), int64(1), object(6)\n",
      "memory usage: 6.9+ MB\n"
     ]
    }
   ],
   "source": [
    "df.info()"
   ]
  },
  {
   "cell_type": "code",
   "execution_count": 10,
   "metadata": {
    "scrolled": true
   },
   "outputs": [
    {
     "name": "stdout",
     "output_type": "stream",
     "text": [
      "         ActionTime      StayTime\n",
      "count  1.000000e+05  99993.000000\n",
      "mean   1.506038e+15      1.000457\n",
      "std    4.176429e+12      1.005150\n",
      "min    1.500991e+15      0.000018\n",
      "25%    1.502550e+15      0.286686\n",
      "50%    1.504912e+15      0.692082\n",
      "75%    1.508607e+15      1.386599\n",
      "max    1.517356e+15     10.477972\n",
      "________________________________________\n",
      "        Action                            ID   Website BannerSize     Brand  \\\n",
      "count   100000                        100000    100000     100000    100000   \n",
      "unique       2                          3093        16         15        10   \n",
      "top       View  AMsySZYkZOPn04sH5gQG7xBcBGKz  Facebook    300x250  Carter's   \n",
      "freq     90010                          2513     58059      43314     22438   \n",
      "\n",
      "         Color  \n",
      "count   100000  \n",
      "unique       7  \n",
      "top       Pink  \n",
      "freq     32261  \n",
      "________________________________________\n",
      "Action        0\n",
      "ID            0\n",
      "ActionTime    0\n",
      "Website       0\n",
      "BannerSize    0\n",
      "Brand         0\n",
      "Color         0\n",
      "StayTime      7\n",
      "dtype: int64\n"
     ]
    }
   ],
   "source": [
    "print(df.describe())\n",
    "print('_'*40)\n",
    "print(df.describe(include=['O']))\n",
    "print('_'*40)\n",
    "print(df.isnull().sum())"
   ]
  },
  {
   "cell_type": "code",
   "execution_count": 11,
   "metadata": {},
   "outputs": [
    {
     "data": {
      "text/plain": [
       "Action        0\n",
       "ID            0\n",
       "ActionTime    0\n",
       "Website       0\n",
       "BannerSize    0\n",
       "Brand         0\n",
       "Color         0\n",
       "StayTime      7\n",
       "dtype: int64"
      ]
     },
     "execution_count": 11,
     "metadata": {},
     "output_type": "execute_result"
    }
   ],
   "source": [
    "# find null\n",
    "df.isnull().sum()"
   ]
  },
  {
   "cell_type": "code",
   "execution_count": 12,
   "metadata": {},
   "outputs": [
    {
     "data": {
      "text/plain": [
       "Action        0\n",
       "ID            0\n",
       "ActionTime    0\n",
       "Website       0\n",
       "BannerSize    0\n",
       "Brand         0\n",
       "Color         0\n",
       "StayTime      0\n",
       "dtype: int64"
      ]
     },
     "execution_count": 12,
     "metadata": {},
     "output_type": "execute_result"
    }
   ],
   "source": [
    "# replace null with median\n",
    "df.StayTime.fillna(df.StayTime.median(), inplace = True)\n",
    "df.isnull().sum()"
   ]
  },
  {
   "cell_type": "markdown",
   "metadata": {},
   "source": [
    "### Data Analysis and Visualization"
   ]
  },
  {
   "cell_type": "code",
   "execution_count": 13,
   "metadata": {},
   "outputs": [
    {
     "data": {
      "text/plain": [
       "array([[<matplotlib.axes._subplots.AxesSubplot object at 0x000000000B801B38>,\n",
       "        <matplotlib.axes._subplots.AxesSubplot object at 0x000000000B82AFD0>]],\n",
       "      dtype=object)"
      ]
     },
     "execution_count": 13,
     "metadata": {},
     "output_type": "execute_result"
    },
    {
     "data": {
      "image/png": "[encoded data removed]",
      "text/plain": [
       "<Figure size 432x288 with 2 Axes>"
      ]
     },
     "metadata": {},
     "output_type": "display_data"
    },
    {
     "data": {
      "image/png": "[encoded data removed]",
      "text/plain": [
       "<Figure size 432x288 with 2 Axes>"
      ]
     },
     "metadata": {},
     "output_type": "display_data"
    }
   ],
   "source": [
    "df[df.Action == 'Click'].hist()\n",
    "df[df.Action == 'View'].hist()"
   ]
  },
  {
   "cell_type": "code",
   "execution_count": 14,
   "metadata": {},
   "outputs": [],
   "source": [
    "mapping = {'View': 0, 'Click': 1}\n",
    "df = df.replace({'Action': mapping})"
   ]
  },
  {
   "cell_type": "code",
   "execution_count": 15,
   "metadata": {},
   "outputs": [
    {
     "data": {
      "text/plain": [
       "(90010, 8)"
      ]
     },
     "execution_count": 15,
     "metadata": {},
     "output_type": "execute_result"
    }
   ],
   "source": [
    "df.describe()\n",
    "df[df['Action']==0].shape"
   ]
  },
  {
   "cell_type": "code",
   "execution_count": 16,
   "metadata": {},
   "outputs": [
    {
     "data": {
      "text/plain": [
       "Facebook         58059\n",
       "instagram.com    15184\n",
       "Other            14282\n",
       "Craigslist.ca     3595\n",
       "Yahoo             2363\n",
       "Amazon            1601\n",
       "TubeMogul         1185\n",
       "Kijiji             886\n",
       "Atedra             853\n",
       "Sympatico          606\n",
       "Expedia            474\n",
       "Weather            438\n",
       "Youtube            217\n",
       "Twitter            123\n",
       "Wayfair             93\n",
       "AOL                 41\n",
       "Name: Website, dtype: int64"
      ]
     },
     "execution_count": 16,
     "metadata": {},
     "output_type": "execute_result"
    }
   ],
   "source": [
    "df.Website.value_counts()"
   ]
  },
  {
   "cell_type": "code",
   "execution_count": 17,
   "metadata": {},
   "outputs": [
    {
     "data": {
      "text/plain": [
       "0.0999"
      ]
     },
     "execution_count": 17,
     "metadata": {},
     "output_type": "execute_result"
    }
   ],
   "source": [
    "# Baseline click through rate\n",
    "df.Action.mean()"
   ]
  },
  {
   "cell_type": "markdown",
   "metadata": {},
   "source": [
    "To find the relationship between features and Action, I calculated the Click Through Rate(CTR) for each value of categorical features, and then sort the dataframe by CTR. We can see that BannerSize and Website seem like good predictors for Action."
   ]
  },
  {
   "cell_type": "code",
   "execution_count": 18,
   "metadata": {},
   "outputs": [
    {
     "data": {
      "text/html": [
       "<div>\n",
       "<style scoped>\n",
       "    .dataframe tbody tr th:only-of-type {\n",
       "        vertical-align: middle;\n",
       "    }\n",
       "\n",
       "    .dataframe tbody tr th {\n",
       "        vertical-align: top;\n",
       "    }\n",
       "\n",
       "    .dataframe thead th {\n",
       "        text-align: right;\n",
       "    }\n",
       "</style>\n",
       "<table border=\"1\" class=\"dataframe\">\n",
       "  <thead>\n",
       "    <tr style=\"text-align: right;\">\n",
       "      <th></th>\n",
       "      <th>count</th>\n",
       "      <th>mean</th>\n",
       "    </tr>\n",
       "    <tr>\n",
       "      <th>Website</th>\n",
       "      <th></th>\n",
       "      <th></th>\n",
       "    </tr>\n",
       "  </thead>\n",
       "  <tbody>\n",
       "    <tr>\n",
       "      <th>AOL</th>\n",
       "      <td>41</td>\n",
       "      <td>0.146341</td>\n",
       "    </tr>\n",
       "    <tr>\n",
       "      <th>Youtube</th>\n",
       "      <td>217</td>\n",
       "      <td>0.124424</td>\n",
       "    </tr>\n",
       "    <tr>\n",
       "      <th>Twitter</th>\n",
       "      <td>123</td>\n",
       "      <td>0.113821</td>\n",
       "    </tr>\n",
       "    <tr>\n",
       "      <th>Sympatico</th>\n",
       "      <td>606</td>\n",
       "      <td>0.107261</td>\n",
       "    </tr>\n",
       "    <tr>\n",
       "      <th>Craigslist.ca</th>\n",
       "      <td>3595</td>\n",
       "      <td>0.105702</td>\n",
       "    </tr>\n",
       "  </tbody>\n",
       "</table>\n",
       "</div>"
      ],
      "text/plain": [
       "               count      mean\n",
       "Website                       \n",
       "AOL               41  0.146341\n",
       "Youtube          217  0.124424\n",
       "Twitter          123  0.113821\n",
       "Sympatico        606  0.107261\n",
       "Craigslist.ca   3595  0.105702"
      ]
     },
     "execution_count": 18,
     "metadata": {},
     "output_type": "execute_result"
    }
   ],
   "source": [
    "df.groupby('Website').Action.agg({'mean', 'count'}).sort_values('mean', ascending=False).head()"
   ]
  },
  {
   "cell_type": "code",
   "execution_count": 19,
   "metadata": {},
   "outputs": [
    {
     "data": {
      "text/html": [
       "<div>\n",
       "<style scoped>\n",
       "    .dataframe tbody tr th:only-of-type {\n",
       "        vertical-align: middle;\n",
       "    }\n",
       "\n",
       "    .dataframe tbody tr th {\n",
       "        vertical-align: top;\n",
       "    }\n",
       "\n",
       "    .dataframe thead th {\n",
       "        text-align: right;\n",
       "    }\n",
       "</style>\n",
       "<table border=\"1\" class=\"dataframe\">\n",
       "  <thead>\n",
       "    <tr style=\"text-align: right;\">\n",
       "      <th></th>\n",
       "      <th>count</th>\n",
       "      <th>mean</th>\n",
       "    </tr>\n",
       "    <tr>\n",
       "      <th>Brand</th>\n",
       "      <th></th>\n",
       "      <th></th>\n",
       "    </tr>\n",
       "  </thead>\n",
       "  <tbody>\n",
       "    <tr>\n",
       "      <th>Disney</th>\n",
       "      <td>8392</td>\n",
       "      <td>0.106173</td>\n",
       "    </tr>\n",
       "    <tr>\n",
       "      <th>Zara</th>\n",
       "      <td>5524</td>\n",
       "      <td>0.102643</td>\n",
       "    </tr>\n",
       "    <tr>\n",
       "      <th>Burberry</th>\n",
       "      <td>8314</td>\n",
       "      <td>0.101997</td>\n",
       "    </tr>\n",
       "    <tr>\n",
       "      <th>JoeFresh</th>\n",
       "      <td>19101</td>\n",
       "      <td>0.101147</td>\n",
       "    </tr>\n",
       "    <tr>\n",
       "      <th>Carter's</th>\n",
       "      <td>22438</td>\n",
       "      <td>0.099162</td>\n",
       "    </tr>\n",
       "  </tbody>\n",
       "</table>\n",
       "</div>"
      ],
      "text/plain": [
       "          count      mean\n",
       "Brand                    \n",
       "Disney     8392  0.106173\n",
       "Zara       5524  0.102643\n",
       "Burberry   8314  0.101997\n",
       "JoeFresh  19101  0.101147\n",
       "Carter's  22438  0.099162"
      ]
     },
     "execution_count": 19,
     "metadata": {},
     "output_type": "execute_result"
    }
   ],
   "source": [
    "df.groupby('Brand').Action.agg({'mean', 'count'}).sort_values('mean', ascending=False).head()"
   ]
  },
  {
   "cell_type": "code",
   "execution_count": 20,
   "metadata": {},
   "outputs": [
    {
     "data": {
      "text/html": [
       "<div>\n",
       "<style scoped>\n",
       "    .dataframe tbody tr th:only-of-type {\n",
       "        vertical-align: middle;\n",
       "    }\n",
       "\n",
       "    .dataframe tbody tr th {\n",
       "        vertical-align: top;\n",
       "    }\n",
       "\n",
       "    .dataframe thead th {\n",
       "        text-align: right;\n",
       "    }\n",
       "</style>\n",
       "<table border=\"1\" class=\"dataframe\">\n",
       "  <thead>\n",
       "    <tr style=\"text-align: right;\">\n",
       "      <th></th>\n",
       "      <th>count</th>\n",
       "      <th>mean</th>\n",
       "    </tr>\n",
       "    <tr>\n",
       "      <th>BannerSize</th>\n",
       "      <th></th>\n",
       "      <th></th>\n",
       "    </tr>\n",
       "  </thead>\n",
       "  <tbody>\n",
       "    <tr>\n",
       "      <th>320x100</th>\n",
       "      <td>50</td>\n",
       "      <td>0.140000</td>\n",
       "    </tr>\n",
       "    <tr>\n",
       "      <th>768x1024</th>\n",
       "      <td>32</td>\n",
       "      <td>0.125000</td>\n",
       "    </tr>\n",
       "    <tr>\n",
       "      <th>1x1</th>\n",
       "      <td>400</td>\n",
       "      <td>0.112500</td>\n",
       "    </tr>\n",
       "    <tr>\n",
       "      <th>300x600</th>\n",
       "      <td>5247</td>\n",
       "      <td>0.106156</td>\n",
       "    </tr>\n",
       "    <tr>\n",
       "      <th>300x250</th>\n",
       "      <td>43314</td>\n",
       "      <td>0.100730</td>\n",
       "    </tr>\n",
       "  </tbody>\n",
       "</table>\n",
       "</div>"
      ],
      "text/plain": [
       "            count      mean\n",
       "BannerSize                 \n",
       "320x100        50  0.140000\n",
       "768x1024       32  0.125000\n",
       "1x1           400  0.112500\n",
       "300x600      5247  0.106156\n",
       "300x250     43314  0.100730"
      ]
     },
     "execution_count": 20,
     "metadata": {},
     "output_type": "execute_result"
    }
   ],
   "source": [
    "df.groupby('BannerSize').Action.agg({'mean', 'count'}).sort_values('mean', ascending=False).head()"
   ]
  },
  {
   "cell_type": "code",
   "execution_count": 21,
   "metadata": {},
   "outputs": [
    {
     "data": {
      "text/html": [
       "<div>\n",
       "<style scoped>\n",
       "    .dataframe tbody tr th:only-of-type {\n",
       "        vertical-align: middle;\n",
       "    }\n",
       "\n",
       "    .dataframe tbody tr th {\n",
       "        vertical-align: top;\n",
       "    }\n",
       "\n",
       "    .dataframe thead th {\n",
       "        text-align: right;\n",
       "    }\n",
       "</style>\n",
       "<table border=\"1\" class=\"dataframe\">\n",
       "  <thead>\n",
       "    <tr style=\"text-align: right;\">\n",
       "      <th></th>\n",
       "      <th>count</th>\n",
       "      <th>mean</th>\n",
       "    </tr>\n",
       "    <tr>\n",
       "      <th>Color</th>\n",
       "      <th></th>\n",
       "      <th></th>\n",
       "    </tr>\n",
       "  </thead>\n",
       "  <tbody>\n",
       "    <tr>\n",
       "      <th>Red</th>\n",
       "      <td>9267</td>\n",
       "      <td>0.103809</td>\n",
       "    </tr>\n",
       "    <tr>\n",
       "      <th>Yellow</th>\n",
       "      <td>18203</td>\n",
       "      <td>0.101412</td>\n",
       "    </tr>\n",
       "    <tr>\n",
       "      <th>White</th>\n",
       "      <td>5583</td>\n",
       "      <td>0.100484</td>\n",
       "    </tr>\n",
       "    <tr>\n",
       "      <th>Gold</th>\n",
       "      <td>16111</td>\n",
       "      <td>0.099497</td>\n",
       "    </tr>\n",
       "    <tr>\n",
       "      <th>other</th>\n",
       "      <td>4684</td>\n",
       "      <td>0.099488</td>\n",
       "    </tr>\n",
       "  </tbody>\n",
       "</table>\n",
       "</div>"
      ],
      "text/plain": [
       "        count      mean\n",
       "Color                  \n",
       "Red      9267  0.103809\n",
       "Yellow  18203  0.101412\n",
       "White    5583  0.100484\n",
       "Gold    16111  0.099497\n",
       "other    4684  0.099488"
      ]
     },
     "execution_count": 21,
     "metadata": {},
     "output_type": "execute_result"
    }
   ],
   "source": [
    "df.groupby('Color').Action.agg({'mean', 'count'}).sort_values('mean', ascending=False).head()"
   ]
  },
  {
   "cell_type": "markdown",
   "metadata": {},
   "source": [
    "### Feature Selection and Engineering"
   ]
  },
  {
   "cell_type": "markdown",
   "metadata": {},
   "source": [
    "Convert the microseconds timestamp into a readable date format, assuming unix epoch time is 1970/01/01, UTC."
   ]
  },
  {
   "cell_type": "code",
   "execution_count": 22,
   "metadata": {},
   "outputs": [
    {
     "data": {
      "text/plain": [
       "<matplotlib.axes._subplots.AxesSubplot at 0xbb78b38>"
      ]
     },
     "execution_count": 22,
     "metadata": {},
     "output_type": "execute_result"
    },
    {
     "data": {
      "image/png": "[encoded data removed]",
      "text/plain": [
       "<Figure size 432x288 with 1 Axes>"
      ]
     },
     "metadata": {},
     "output_type": "display_data"
    }
   ],
   "source": [
    "epoch = datetime(1970, 1, 1, tzinfo=timezone.utc)\n",
    "mcs_format = df.ActionTime\n",
    "date_format = []\n",
    "for i in range(1, df.shape[0]+1):\n",
    "    date_format.append(epoch + timedelta(microseconds=int(mcs_format[i])))\n",
    "df['ActionTime_Date'] = pd.Series(date_format).values\n",
    "df.head()\n",
    "df.ActionTime_Date.hist()\n",
    "#https://www.epochconverter.com/"
   ]
  },
  {
   "cell_type": "markdown",
   "metadata": {},
   "source": [
    "Extract year, month, day, day of the week, hour, mininut into new columns. And map day of the week to 1 to 7."
   ]
  },
  {
   "cell_type": "code",
   "execution_count": 23,
   "metadata": {},
   "outputs": [],
   "source": [
    "\n",
    "df['Year'], df['Month'], df['Day'] = df['ActionTime_Date'].dt.year, df['ActionTime_Date'].dt.month, df['ActionTime_Date'].dt.day\n",
    "df['Weekday'] = df['ActionTime_Date'].dt.weekday_name\n",
    "mapping = {'Monday':1, 'Tuesday':2, 'Wednesday':3, 'Thursday':4, 'Friday':5, 'Saturday':6, 'Sunday':7}\n",
    "df = df.replace({'Weekday': mapping})"
   ]
  },
  {
   "cell_type": "code",
   "execution_count": 24,
   "metadata": {},
   "outputs": [],
   "source": [
    "df['Hour'], df['Minute'] = df['ActionTime_Date'].dt.hour, df['ActionTime_Date'].dt.minute"
   ]
  },
  {
   "cell_type": "code",
   "execution_count": 25,
   "metadata": {
    "scrolled": true
   },
   "outputs": [
    {
     "name": "stdout",
     "output_type": "stream",
     "text": [
      "   Action                            ID        ActionTime   Website  \\\n",
      "1       0  AMsySZZ_MC-gwE-94t_QLt3kIbXh  1501207373254968  Facebook   \n",
      "2       0  AMsySZZ_MC-gwE-94t_QLt3kIbXh  1501209660836689  Facebook   \n",
      "3       0  AMsySZZ_MC-gwE-94t_QLt3kIbXh  1501209717498078  Facebook   \n",
      "4       0  AMsySZZ_MC-gwE-94t_QLt3kIbXh  1502831370458655     Other   \n",
      "5       1  AMsySZZ_MC-gwE-94t_QLt3kIbXh  1502831506975457     Other   \n",
      "\n",
      "  BannerSize     Brand  Color  StayTime            ActionTime_Date  Year  \\\n",
      "1     728x90  JoeFresh   Pink  1.730627 2017-07-28 02:02:53.254968  2017   \n",
      "2    160x600  JoeFresh   Blue  0.615033 2017-07-28 02:41:00.836689  2017   \n",
      "3    160x600    Disney   Gold  1.232917 2017-07-28 02:41:57.498078  2017   \n",
      "4    300x250      Zara   Pink  1.004084 2017-08-15 21:09:30.458655  2017   \n",
      "5    300x250  Carter's  White  0.204201 2017-08-15 21:11:46.975457  2017   \n",
      "\n",
      "   Month  Day  Weekday  Hour  Minute  \n",
      "1      7   28        5     2       2  \n",
      "2      7   28        5     2      41  \n",
      "3      7   28        5     2      41  \n",
      "4      8   15        2    21       9  \n",
      "5      8   15        2    21      11  \n",
      "________________________________________________________________________________\n",
      "              Action    ActionTime       StayTime           Year  \\\n",
      "count  100000.000000  1.000000e+05  100000.000000  100000.000000   \n",
      "mean        0.099900  1.506038e+15       1.000435    2017.047600   \n",
      "std         0.299868  4.176429e+12       1.005118       0.212919   \n",
      "min         0.000000  1.500991e+15       0.000018    2017.000000   \n",
      "25%         0.000000  1.502550e+15       0.286743    2017.000000   \n",
      "50%         0.000000  1.504912e+15       0.692082    2017.000000   \n",
      "75%         0.000000  1.508607e+15       1.386515    2017.000000   \n",
      "max         1.000000  1.517356e+15      10.477972    2018.000000   \n",
      "\n",
      "               Month            Day        Weekday          Hour  \\\n",
      "count  100000.000000  100000.000000  100000.000000  100000.00000   \n",
      "mean        8.617240      16.103450       3.843150      12.62613   \n",
      "std         2.166735       9.165502       1.965657       7.42587   \n",
      "min         1.000000       1.000000       1.000000       0.00000   \n",
      "25%         8.000000       8.000000       2.000000       5.00000   \n",
      "50%         9.000000      16.000000       4.000000      14.00000   \n",
      "75%        10.000000      25.000000       5.000000      19.00000   \n",
      "max        12.000000      31.000000       7.000000      23.00000   \n",
      "\n",
      "              Minute  \n",
      "count  100000.000000  \n",
      "mean       29.239270  \n",
      "std        17.299157  \n",
      "min         0.000000  \n",
      "25%        14.000000  \n",
      "50%        29.000000  \n",
      "75%        44.000000  \n",
      "max        59.000000  \n",
      "________________________________________________________________________________\n",
      "                                  ID   Website BannerSize     Brand   Color\n",
      "count                         100000    100000     100000    100000  100000\n",
      "unique                          3093        16         15        10       7\n",
      "top     AMsySZYkZOPn04sH5gQG7xBcBGKz  Facebook    300x250  Carter's    Pink\n",
      "freq                            2513     58059      43314     22438   32261\n",
      "________________________________________________________________________________\n",
      "<class 'pandas.core.frame.DataFrame'>\n",
      "Int64Index: 100000 entries, 1 to 100000\n",
      "Data columns (total 15 columns):\n",
      "Action             100000 non-null int64\n",
      "ID                 100000 non-null object\n",
      "ActionTime         100000 non-null int64\n",
      "Website            100000 non-null object\n",
      "BannerSize         100000 non-null object\n",
      "Brand              100000 non-null object\n",
      "Color              100000 non-null object\n",
      "StayTime           100000 non-null float64\n",
      "ActionTime_Date    100000 non-null datetime64[ns]\n",
      "Year               100000 non-null int64\n",
      "Month              100000 non-null int64\n",
      "Day                100000 non-null int64\n",
      "Weekday            100000 non-null int64\n",
      "Hour               100000 non-null int64\n",
      "Minute             100000 non-null int64\n",
      "dtypes: datetime64[ns](1), float64(1), int64(8), object(5)\n",
      "memory usage: 12.2+ MB\n"
     ]
    }
   ],
   "source": [
    "print(df.head())\n",
    "print('_'*80)\n",
    "print(df.describe())\n",
    "print('_'*80)\n",
    "print(df.describe(include=['O']))\n",
    "print('_'*80)\n",
    "df.info()"
   ]
  },
  {
   "cell_type": "markdown",
   "metadata": {},
   "source": [
    "Visually examin the relationship between time and Action. Weekday seems to have a stronger realtionship with Action than other 'time' variables."
   ]
  },
  {
   "cell_type": "code",
   "execution_count": 26,
   "metadata": {},
   "outputs": [
    {
     "data": {
      "text/plain": [
       "<seaborn.axisgrid.FacetGrid at 0xbb78048>"
      ]
     },
     "execution_count": 26,
     "metadata": {},
     "output_type": "execute_result"
    },
    {
     "data": {
      "image/png": "[encoded data removed]",
      "text/plain": [
       "<Figure size 432x216 with 2 Axes>"
      ]
     },
     "metadata": {},
     "output_type": "display_data"
    }
   ],
   "source": [
    "g = sns.FacetGrid(df, col='Action', sharey=False)\n",
    "axes = g.axes\n",
    "axes[0,0].set_xlim(1,12)\n",
    "g.map(plt.hist, 'Month', bins=12)"
   ]
  },
  {
   "cell_type": "code",
   "execution_count": 27,
   "metadata": {},
   "outputs": [
    {
     "data": {
      "text/plain": [
       "<seaborn.axisgrid.FacetGrid at 0xc49f9e8>"
      ]
     },
     "execution_count": 27,
     "metadata": {},
     "output_type": "execute_result"
    },
    {
     "data": {
      "image/png": "[encoded data removed]",
      "text/plain": [
       "<Figure size 432x216 with 2 Axes>"
      ]
     },
     "metadata": {},
     "output_type": "display_data"
    }
   ],
   "source": [
    "g = sns.FacetGrid(df, col='Action', sharey=False)\n",
    "g.map(plt.hist, 'Day', bins=30)"
   ]
  },
  {
   "cell_type": "code",
   "execution_count": 28,
   "metadata": {},
   "outputs": [
    {
     "data": {
      "text/plain": [
       "<seaborn.axisgrid.FacetGrid at 0xb6428d0>"
      ]
     },
     "execution_count": 28,
     "metadata": {},
     "output_type": "execute_result"
    },
    {
     "data": {
      "image/png": "[encoded data removed]",
      "text/plain": [
       "<Figure size 432x216 with 2 Axes>"
      ]
     },
     "metadata": {},
     "output_type": "display_data"
    }
   ],
   "source": [
    "g = sns.FacetGrid(df, col='Action', sharey=False)\n",
    "g.map(plt.hist, 'Weekday', bins=7)"
   ]
  },
  {
   "cell_type": "code",
   "execution_count": 29,
   "metadata": {},
   "outputs": [
    {
     "data": {
      "text/plain": [
       "<seaborn.axisgrid.FacetGrid at 0xdc01e80>"
      ]
     },
     "execution_count": 29,
     "metadata": {},
     "output_type": "execute_result"
    },
    {
     "data": {
      "image/png": "[encoded data removed]",
      "text/plain": [
       "<Figure size 432x216 with 2 Axes>"
      ]
     },
     "metadata": {},
     "output_type": "display_data"
    }
   ],
   "source": [
    "g = sns.FacetGrid(df, col='Action', sharey=False)\n",
    "g.map(plt.hist, 'Hour', bins=24)"
   ]
  },
  {
   "cell_type": "code",
   "execution_count": 30,
   "metadata": {},
   "outputs": [
    {
     "data": {
      "text/html": [
       "<div>\n",
       "<style scoped>\n",
       "    .dataframe tbody tr th:only-of-type {\n",
       "        vertical-align: middle;\n",
       "    }\n",
       "\n",
       "    .dataframe tbody tr th {\n",
       "        vertical-align: top;\n",
       "    }\n",
       "\n",
       "    .dataframe thead th {\n",
       "        text-align: right;\n",
       "    }\n",
       "</style>\n",
       "<table border=\"1\" class=\"dataframe\">\n",
       "  <thead>\n",
       "    <tr style=\"text-align: right;\">\n",
       "      <th></th>\n",
       "      <th>count</th>\n",
       "      <th>mean</th>\n",
       "    </tr>\n",
       "    <tr>\n",
       "      <th>Minute</th>\n",
       "      <th></th>\n",
       "      <th></th>\n",
       "    </tr>\n",
       "  </thead>\n",
       "  <tbody>\n",
       "    <tr>\n",
       "      <th>19</th>\n",
       "      <td>1612</td>\n",
       "      <td>0.113524</td>\n",
       "    </tr>\n",
       "    <tr>\n",
       "      <th>45</th>\n",
       "      <td>1626</td>\n",
       "      <td>0.111931</td>\n",
       "    </tr>\n",
       "    <tr>\n",
       "      <th>39</th>\n",
       "      <td>1609</td>\n",
       "      <td>0.111249</td>\n",
       "    </tr>\n",
       "    <tr>\n",
       "      <th>23</th>\n",
       "      <td>1732</td>\n",
       "      <td>0.110855</td>\n",
       "    </tr>\n",
       "    <tr>\n",
       "      <th>4</th>\n",
       "      <td>1727</td>\n",
       "      <td>0.110596</td>\n",
       "    </tr>\n",
       "  </tbody>\n",
       "</table>\n",
       "</div>"
      ],
      "text/plain": [
       "        count      mean\n",
       "Minute                 \n",
       "19       1612  0.113524\n",
       "45       1626  0.111931\n",
       "39       1609  0.111249\n",
       "23       1732  0.110855\n",
       "4        1727  0.110596"
      ]
     },
     "execution_count": 30,
     "metadata": {},
     "output_type": "execute_result"
    }
   ],
   "source": [
    "df.groupby('Weekday').Action.agg({'mean', 'count'}).sort_values('mean', ascending=False).head()\n",
    "df.groupby('Month').Action.agg({'mean', 'count'}).sort_values('mean', ascending=False).head()\n",
    "df.groupby('Year').Action.agg({'mean', 'count'}).sort_values('mean', ascending=False).head()\n",
    "df.groupby('Day').Action.agg({'mean', 'count'}).sort_values('mean', ascending=False).head()\n",
    "df.groupby('Hour').Action.agg({'mean', 'count'}).sort_values('mean', ascending=False).head()\n",
    "df.groupby('Minute').Action.agg({'mean', 'count'}).sort_values('mean', ascending=False).head()"
   ]
  },
  {
   "cell_type": "code",
   "execution_count": 31,
   "metadata": {},
   "outputs": [
    {
     "data": {
      "text/html": [
       "<div>\n",
       "<style scoped>\n",
       "    .dataframe tbody tr th:only-of-type {\n",
       "        vertical-align: middle;\n",
       "    }\n",
       "\n",
       "    .dataframe tbody tr th {\n",
       "        vertical-align: top;\n",
       "    }\n",
       "\n",
       "    .dataframe thead th {\n",
       "        text-align: right;\n",
       "    }\n",
       "</style>\n",
       "<table border=\"1\" class=\"dataframe\">\n",
       "  <thead>\n",
       "    <tr style=\"text-align: right;\">\n",
       "      <th></th>\n",
       "      <th>Action</th>\n",
       "      <th>ID</th>\n",
       "      <th>ActionTime</th>\n",
       "      <th>Website</th>\n",
       "      <th>BannerSize</th>\n",
       "      <th>Brand</th>\n",
       "      <th>Color</th>\n",
       "      <th>StayTime</th>\n",
       "      <th>ActionTime_Date</th>\n",
       "      <th>Year</th>\n",
       "      <th>Month</th>\n",
       "      <th>Day</th>\n",
       "      <th>Weekday</th>\n",
       "      <th>Hour</th>\n",
       "      <th>Minute</th>\n",
       "    </tr>\n",
       "  </thead>\n",
       "  <tbody>\n",
       "    <tr>\n",
       "      <th>1</th>\n",
       "      <td>0</td>\n",
       "      <td>AMsySZZ_MC-gwE-94t_QLt3kIbXh</td>\n",
       "      <td>1501207373254968</td>\n",
       "      <td>Facebook</td>\n",
       "      <td>728x90</td>\n",
       "      <td>JoeFresh</td>\n",
       "      <td>Pink</td>\n",
       "      <td>1.730627</td>\n",
       "      <td>2017-07-28 02:02:53.254968</td>\n",
       "      <td>2017</td>\n",
       "      <td>7</td>\n",
       "      <td>28</td>\n",
       "      <td>5</td>\n",
       "      <td>2</td>\n",
       "      <td>2</td>\n",
       "    </tr>\n",
       "    <tr>\n",
       "      <th>2</th>\n",
       "      <td>0</td>\n",
       "      <td>AMsySZZ_MC-gwE-94t_QLt3kIbXh</td>\n",
       "      <td>1501209660836689</td>\n",
       "      <td>Facebook</td>\n",
       "      <td>160x600</td>\n",
       "      <td>JoeFresh</td>\n",
       "      <td>Blue</td>\n",
       "      <td>0.615033</td>\n",
       "      <td>2017-07-28 02:41:00.836689</td>\n",
       "      <td>2017</td>\n",
       "      <td>7</td>\n",
       "      <td>28</td>\n",
       "      <td>5</td>\n",
       "      <td>2</td>\n",
       "      <td>41</td>\n",
       "    </tr>\n",
       "    <tr>\n",
       "      <th>3</th>\n",
       "      <td>0</td>\n",
       "      <td>AMsySZZ_MC-gwE-94t_QLt3kIbXh</td>\n",
       "      <td>1501209717498078</td>\n",
       "      <td>Facebook</td>\n",
       "      <td>160x600</td>\n",
       "      <td>Disney</td>\n",
       "      <td>Gold</td>\n",
       "      <td>1.232917</td>\n",
       "      <td>2017-07-28 02:41:57.498078</td>\n",
       "      <td>2017</td>\n",
       "      <td>7</td>\n",
       "      <td>28</td>\n",
       "      <td>5</td>\n",
       "      <td>2</td>\n",
       "      <td>41</td>\n",
       "    </tr>\n",
       "    <tr>\n",
       "      <th>4</th>\n",
       "      <td>0</td>\n",
       "      <td>AMsySZZ_MC-gwE-94t_QLt3kIbXh</td>\n",
       "      <td>1502831370458655</td>\n",
       "      <td>Other</td>\n",
       "      <td>300x250</td>\n",
       "      <td>Zara</td>\n",
       "      <td>Pink</td>\n",
       "      <td>1.004084</td>\n",
       "      <td>2017-08-15 21:09:30.458655</td>\n",
       "      <td>2017</td>\n",
       "      <td>8</td>\n",
       "      <td>15</td>\n",
       "      <td>2</td>\n",
       "      <td>21</td>\n",
       "      <td>9</td>\n",
       "    </tr>\n",
       "    <tr>\n",
       "      <th>5</th>\n",
       "      <td>1</td>\n",
       "      <td>AMsySZZ_MC-gwE-94t_QLt3kIbXh</td>\n",
       "      <td>1502831506975457</td>\n",
       "      <td>Other</td>\n",
       "      <td>300x250</td>\n",
       "      <td>Carter's</td>\n",
       "      <td>White</td>\n",
       "      <td>0.204201</td>\n",
       "      <td>2017-08-15 21:11:46.975457</td>\n",
       "      <td>2017</td>\n",
       "      <td>8</td>\n",
       "      <td>15</td>\n",
       "      <td>2</td>\n",
       "      <td>21</td>\n",
       "      <td>11</td>\n",
       "    </tr>\n",
       "  </tbody>\n",
       "</table>\n",
       "</div>"
      ],
      "text/plain": [
       "   Action                            ID        ActionTime   Website  \\\n",
       "1       0  AMsySZZ_MC-gwE-94t_QLt3kIbXh  1501207373254968  Facebook   \n",
       "2       0  AMsySZZ_MC-gwE-94t_QLt3kIbXh  1501209660836689  Facebook   \n",
       "3       0  AMsySZZ_MC-gwE-94t_QLt3kIbXh  1501209717498078  Facebook   \n",
       "4       0  AMsySZZ_MC-gwE-94t_QLt3kIbXh  1502831370458655     Other   \n",
       "5       1  AMsySZZ_MC-gwE-94t_QLt3kIbXh  1502831506975457     Other   \n",
       "\n",
       "  BannerSize     Brand  Color  StayTime            ActionTime_Date  Year  \\\n",
       "1     728x90  JoeFresh   Pink  1.730627 2017-07-28 02:02:53.254968  2017   \n",
       "2    160x600  JoeFresh   Blue  0.615033 2017-07-28 02:41:00.836689  2017   \n",
       "3    160x600    Disney   Gold  1.232917 2017-07-28 02:41:57.498078  2017   \n",
       "4    300x250      Zara   Pink  1.004084 2017-08-15 21:09:30.458655  2017   \n",
       "5    300x250  Carter's  White  0.204201 2017-08-15 21:11:46.975457  2017   \n",
       "\n",
       "   Month  Day  Weekday  Hour  Minute  \n",
       "1      7   28        5     2       2  \n",
       "2      7   28        5     2      41  \n",
       "3      7   28        5     2      41  \n",
       "4      8   15        2    21       9  \n",
       "5      8   15        2    21      11  "
      ]
     },
     "execution_count": 31,
     "metadata": {},
     "output_type": "execute_result"
    }
   ],
   "source": [
    "df.head()"
   ]
  },
  {
   "cell_type": "markdown",
   "metadata": {},
   "source": [
    "Calculate the total time that a user viewed the advertisement."
   ]
  },
  {
   "cell_type": "code",
   "execution_count": 32,
   "metadata": {},
   "outputs": [
    {
     "data": {
      "text/html": [
       "<div>\n",
       "<style scoped>\n",
       "    .dataframe tbody tr th:only-of-type {\n",
       "        vertical-align: middle;\n",
       "    }\n",
       "\n",
       "    .dataframe tbody tr th {\n",
       "        vertical-align: top;\n",
       "    }\n",
       "\n",
       "    .dataframe thead th {\n",
       "        text-align: right;\n",
       "    }\n",
       "</style>\n",
       "<table border=\"1\" class=\"dataframe\">\n",
       "  <thead>\n",
       "    <tr style=\"text-align: right;\">\n",
       "      <th></th>\n",
       "      <th>Action</th>\n",
       "      <th>ID</th>\n",
       "      <th>ActionTime</th>\n",
       "      <th>Website</th>\n",
       "      <th>BannerSize</th>\n",
       "      <th>Brand</th>\n",
       "      <th>Color</th>\n",
       "      <th>StayTime</th>\n",
       "      <th>ActionTime_Date</th>\n",
       "      <th>Year</th>\n",
       "      <th>Month</th>\n",
       "      <th>Day</th>\n",
       "      <th>Weekday</th>\n",
       "      <th>Hour</th>\n",
       "      <th>Minute</th>\n",
       "    </tr>\n",
       "  </thead>\n",
       "  <tbody>\n",
       "    <tr>\n",
       "      <th>4127</th>\n",
       "      <td>0</td>\n",
       "      <td>AMsySZaNbHOuIdXp4Wzp7XGbw3qs</td>\n",
       "      <td>1517356357079943</td>\n",
       "      <td>Facebook</td>\n",
       "      <td>160x600</td>\n",
       "      <td>JoeFresh</td>\n",
       "      <td>Yellow</td>\n",
       "      <td>0.560764</td>\n",
       "      <td>2018-01-30 23:52:37.079943</td>\n",
       "      <td>2018</td>\n",
       "      <td>1</td>\n",
       "      <td>30</td>\n",
       "      <td>2</td>\n",
       "      <td>23</td>\n",
       "      <td>52</td>\n",
       "    </tr>\n",
       "    <tr>\n",
       "      <th>4126</th>\n",
       "      <td>0</td>\n",
       "      <td>AMsySZaNbHOuIdXp4Wzp7XGbw3qs</td>\n",
       "      <td>1517356164075182</td>\n",
       "      <td>Facebook</td>\n",
       "      <td>300x250</td>\n",
       "      <td>Carter's</td>\n",
       "      <td>Pink</td>\n",
       "      <td>0.821382</td>\n",
       "      <td>2018-01-30 23:49:24.075182</td>\n",
       "      <td>2018</td>\n",
       "      <td>1</td>\n",
       "      <td>30</td>\n",
       "      <td>2</td>\n",
       "      <td>23</td>\n",
       "      <td>49</td>\n",
       "    </tr>\n",
       "    <tr>\n",
       "      <th>4125</th>\n",
       "      <td>0</td>\n",
       "      <td>AMsySZaNbHOuIdXp4Wzp7XGbw3qs</td>\n",
       "      <td>1517356162085729</td>\n",
       "      <td>Facebook</td>\n",
       "      <td>300x250</td>\n",
       "      <td>JoeFresh</td>\n",
       "      <td>Pink</td>\n",
       "      <td>0.233819</td>\n",
       "      <td>2018-01-30 23:49:22.085729</td>\n",
       "      <td>2018</td>\n",
       "      <td>1</td>\n",
       "      <td>30</td>\n",
       "      <td>2</td>\n",
       "      <td>23</td>\n",
       "      <td>49</td>\n",
       "    </tr>\n",
       "    <tr>\n",
       "      <th>53833</th>\n",
       "      <td>0</td>\n",
       "      <td>AMsySZa0ABYW6uOqbq3SnPDDEYvc</td>\n",
       "      <td>1517355755883109</td>\n",
       "      <td>TubeMogul</td>\n",
       "      <td>Other</td>\n",
       "      <td>JoeFresh</td>\n",
       "      <td>Pink</td>\n",
       "      <td>0.765256</td>\n",
       "      <td>2018-01-30 23:42:35.883109</td>\n",
       "      <td>2018</td>\n",
       "      <td>1</td>\n",
       "      <td>30</td>\n",
       "      <td>2</td>\n",
       "      <td>23</td>\n",
       "      <td>42</td>\n",
       "    </tr>\n",
       "    <tr>\n",
       "      <th>53832</th>\n",
       "      <td>0</td>\n",
       "      <td>AMsySZa0ABYW6uOqbq3SnPDDEYvc</td>\n",
       "      <td>1517355716881124</td>\n",
       "      <td>TubeMogul</td>\n",
       "      <td>Other</td>\n",
       "      <td>Zara</td>\n",
       "      <td>Gold</td>\n",
       "      <td>0.873819</td>\n",
       "      <td>2018-01-30 23:41:56.881124</td>\n",
       "      <td>2018</td>\n",
       "      <td>1</td>\n",
       "      <td>30</td>\n",
       "      <td>2</td>\n",
       "      <td>23</td>\n",
       "      <td>41</td>\n",
       "    </tr>\n",
       "  </tbody>\n",
       "</table>\n",
       "</div>"
      ],
      "text/plain": [
       "       Action                            ID        ActionTime    Website  \\\n",
       "4127        0  AMsySZaNbHOuIdXp4Wzp7XGbw3qs  1517356357079943   Facebook   \n",
       "4126        0  AMsySZaNbHOuIdXp4Wzp7XGbw3qs  1517356164075182   Facebook   \n",
       "4125        0  AMsySZaNbHOuIdXp4Wzp7XGbw3qs  1517356162085729   Facebook   \n",
       "53833       0  AMsySZa0ABYW6uOqbq3SnPDDEYvc  1517355755883109  TubeMogul   \n",
       "53832       0  AMsySZa0ABYW6uOqbq3SnPDDEYvc  1517355716881124  TubeMogul   \n",
       "\n",
       "      BannerSize     Brand   Color  StayTime            ActionTime_Date  Year  \\\n",
       "4127     160x600  JoeFresh  Yellow  0.560764 2018-01-30 23:52:37.079943  2018   \n",
       "4126     300x250  Carter's    Pink  0.821382 2018-01-30 23:49:24.075182  2018   \n",
       "4125     300x250  JoeFresh    Pink  0.233819 2018-01-30 23:49:22.085729  2018   \n",
       "53833      Other  JoeFresh    Pink  0.765256 2018-01-30 23:42:35.883109  2018   \n",
       "53832      Other      Zara    Gold  0.873819 2018-01-30 23:41:56.881124  2018   \n",
       "\n",
       "       Month  Day  Weekday  Hour  Minute  \n",
       "4127       1   30        2    23      52  \n",
       "4126       1   30        2    23      49  \n",
       "4125       1   30        2    23      49  \n",
       "53833      1   30        2    23      42  \n",
       "53832      1   30        2    23      41  "
      ]
     },
     "execution_count": 32,
     "metadata": {},
     "output_type": "execute_result"
    }
   ],
   "source": [
    "sort_df = df.sort_values('ActionTime_Date', ascending=False)\n",
    "sort_df.head()"
   ]
  },
  {
   "cell_type": "code",
   "execution_count": 33,
   "metadata": {},
   "outputs": [],
   "source": [
    "\n",
    "# for i in range(0, df.shape[0]):\n",
    "#     if sort_df['Action'].iloc[i] == 1:\n",
    "#         for j in range(i+1, df.shape[0]):\n",
    "#             if sort_df['Action'].iloc[j] != 1:\n",
    "#             a=sort_df[['ID','Website','Brand']].iloc[i]==sort_df[['ID','Website','Brand'].iloc[j]]\n",
    "            \n",
    "            \n",
    "\n",
    "# X = "
   ]
  },
  {
   "cell_type": "markdown",
   "metadata": {},
   "source": [
    "For categorical features, create dummy variables with only two values, 0 and 1."
   ]
  },
  {
   "cell_type": "code",
   "execution_count": 34,
   "metadata": {},
   "outputs": [],
   "source": [
    "cat_vars=['Website', 'BannerSize', 'Brand', 'Color', 'Weekday']\n",
    "for var in cat_vars:\n",
    "    cat_list='var'+'_'+var\n",
    "    cat_list = pd.get_dummies(df[var], prefix=var)\n",
    "    df1=df.merge(cat_list, left_index=True, right_index=True)\n",
    "    df=df1"
   ]
  },
  {
   "cell_type": "code",
   "execution_count": 35,
   "metadata": {},
   "outputs": [
    {
     "data": {
      "text/plain": [
       "array(['Action', 'Month', 'Day', 'Hour', 'Minute', 'Website_AOL',\n",
       "       'Website_Amazon', 'Website_Atedra', 'Website_Craigslist.ca',\n",
       "       'Website_Expedia', 'Website_Facebook', 'Website_Kijiji',\n",
       "       'Website_Other', 'Website_Sympatico', 'Website_TubeMogul',\n",
       "       'Website_Twitter', 'Website_Wayfair', 'Website_Weather',\n",
       "       'Website_Yahoo', 'Website_Youtube', 'Website_instagram.com',\n",
       "       'BannerSize_1200x627', 'BannerSize_1536x2048',\n",
       "       'BannerSize_160x600', 'BannerSize_1x1', 'BannerSize_300x250',\n",
       "       'BannerSize_300x50', 'BannerSize_300x600', 'BannerSize_320x100',\n",
       "       'BannerSize_320x480', 'BannerSize_320x50', 'BannerSize_728x90',\n",
       "       'BannerSize_750x125', 'BannerSize_768x1024', 'BannerSize_Other',\n",
       "       'BannerSize_other', 'Brand_Banana Republic', 'Brand_Burberry',\n",
       "       \"Brand_Carter's\", 'Brand_Disney', 'Brand_Gap', 'Brand_JoeFresh',\n",
       "       'Brand_Old Navy', \"Brand_The Children's Place\", 'Brand_Zara',\n",
       "       'Brand_gymboree', 'Color_Blue', 'Color_Gold', 'Color_Pink',\n",
       "       'Color_Red', 'Color_White', 'Color_Yellow', 'Color_other',\n",
       "       'Weekday_1', 'Weekday_2', 'Weekday_3', 'Weekday_4', 'Weekday_5',\n",
       "       'Weekday_6', 'Weekday_7'], dtype=object)"
      ]
     },
     "execution_count": 35,
     "metadata": {},
     "output_type": "execute_result"
    }
   ],
   "source": [
    "exl_vars=['Website', 'BannerSize', 'Brand', 'Color', 'Weekday', 'ActionTime_Date', 'ID', 'ActionTime', 'StayTime', 'Year']\n",
    "df_vars=df.columns.values.tolist()\n",
    "to_keep=[i for i in df_vars if i not in exl_vars]\n",
    "data_final=df[to_keep]\n",
    "data_final.columns.values"
   ]
  },
  {
   "cell_type": "code",
   "execution_count": 36,
   "metadata": {},
   "outputs": [
    {
     "data": {
      "text/html": [
       "<div>\n",
       "<style scoped>\n",
       "    .dataframe tbody tr th:only-of-type {\n",
       "        vertical-align: middle;\n",
       "    }\n",
       "\n",
       "    .dataframe tbody tr th {\n",
       "        vertical-align: top;\n",
       "    }\n",
       "\n",
       "    .dataframe thead th {\n",
       "        text-align: right;\n",
       "    }\n",
       "</style>\n",
       "<table border=\"1\" class=\"dataframe\">\n",
       "  <thead>\n",
       "    <tr style=\"text-align: right;\">\n",
       "      <th></th>\n",
       "      <th>Action</th>\n",
       "      <th>Month</th>\n",
       "      <th>Day</th>\n",
       "      <th>Hour</th>\n",
       "      <th>Minute</th>\n",
       "      <th>Website_AOL</th>\n",
       "      <th>Website_Amazon</th>\n",
       "      <th>Website_Atedra</th>\n",
       "      <th>Website_Craigslist.ca</th>\n",
       "      <th>Website_Expedia</th>\n",
       "      <th>...</th>\n",
       "      <th>Color_White</th>\n",
       "      <th>Color_Yellow</th>\n",
       "      <th>Color_other</th>\n",
       "      <th>Weekday_1</th>\n",
       "      <th>Weekday_2</th>\n",
       "      <th>Weekday_3</th>\n",
       "      <th>Weekday_4</th>\n",
       "      <th>Weekday_5</th>\n",
       "      <th>Weekday_6</th>\n",
       "      <th>Weekday_7</th>\n",
       "    </tr>\n",
       "  </thead>\n",
       "  <tbody>\n",
       "    <tr>\n",
       "      <th>1</th>\n",
       "      <td>0</td>\n",
       "      <td>7</td>\n",
       "      <td>28</td>\n",
       "      <td>2</td>\n",
       "      <td>2</td>\n",
       "      <td>0</td>\n",
       "      <td>0</td>\n",
       "      <td>0</td>\n",
       "      <td>0</td>\n",
       "      <td>0</td>\n",
       "      <td>...</td>\n",
       "      <td>0</td>\n",
       "      <td>0</td>\n",
       "      <td>0</td>\n",
       "      <td>0</td>\n",
       "      <td>0</td>\n",
       "      <td>0</td>\n",
       "      <td>0</td>\n",
       "      <td>1</td>\n",
       "      <td>0</td>\n",
       "      <td>0</td>\n",
       "    </tr>\n",
       "    <tr>\n",
       "      <th>2</th>\n",
       "      <td>0</td>\n",
       "      <td>7</td>\n",
       "      <td>28</td>\n",
       "      <td>2</td>\n",
       "      <td>41</td>\n",
       "      <td>0</td>\n",
       "      <td>0</td>\n",
       "      <td>0</td>\n",
       "      <td>0</td>\n",
       "      <td>0</td>\n",
       "      <td>...</td>\n",
       "      <td>0</td>\n",
       "      <td>0</td>\n",
       "      <td>0</td>\n",
       "      <td>0</td>\n",
       "      <td>0</td>\n",
       "      <td>0</td>\n",
       "      <td>0</td>\n",
       "      <td>1</td>\n",
       "      <td>0</td>\n",
       "      <td>0</td>\n",
       "    </tr>\n",
       "    <tr>\n",
       "      <th>3</th>\n",
       "      <td>0</td>\n",
       "      <td>7</td>\n",
       "      <td>28</td>\n",
       "      <td>2</td>\n",
       "      <td>41</td>\n",
       "      <td>0</td>\n",
       "      <td>0</td>\n",
       "      <td>0</td>\n",
       "      <td>0</td>\n",
       "      <td>0</td>\n",
       "      <td>...</td>\n",
       "      <td>0</td>\n",
       "      <td>0</td>\n",
       "      <td>0</td>\n",
       "      <td>0</td>\n",
       "      <td>0</td>\n",
       "      <td>0</td>\n",
       "      <td>0</td>\n",
       "      <td>1</td>\n",
       "      <td>0</td>\n",
       "      <td>0</td>\n",
       "    </tr>\n",
       "    <tr>\n",
       "      <th>4</th>\n",
       "      <td>0</td>\n",
       "      <td>8</td>\n",
       "      <td>15</td>\n",
       "      <td>21</td>\n",
       "      <td>9</td>\n",
       "      <td>0</td>\n",
       "      <td>0</td>\n",
       "      <td>0</td>\n",
       "      <td>0</td>\n",
       "      <td>0</td>\n",
       "      <td>...</td>\n",
       "      <td>0</td>\n",
       "      <td>0</td>\n",
       "      <td>0</td>\n",
       "      <td>0</td>\n",
       "      <td>1</td>\n",
       "      <td>0</td>\n",
       "      <td>0</td>\n",
       "      <td>0</td>\n",
       "      <td>0</td>\n",
       "      <td>0</td>\n",
       "    </tr>\n",
       "    <tr>\n",
       "      <th>5</th>\n",
       "      <td>1</td>\n",
       "      <td>8</td>\n",
       "      <td>15</td>\n",
       "      <td>21</td>\n",
       "      <td>11</td>\n",
       "      <td>0</td>\n",
       "      <td>0</td>\n",
       "      <td>0</td>\n",
       "      <td>0</td>\n",
       "      <td>0</td>\n",
       "      <td>...</td>\n",
       "      <td>1</td>\n",
       "      <td>0</td>\n",
       "      <td>0</td>\n",
       "      <td>0</td>\n",
       "      <td>1</td>\n",
       "      <td>0</td>\n",
       "      <td>0</td>\n",
       "      <td>0</td>\n",
       "      <td>0</td>\n",
       "      <td>0</td>\n",
       "    </tr>\n",
       "  </tbody>\n",
       "</table>\n",
       "<p>5 rows × 60 columns</p>\n",
       "</div>"
      ],
      "text/plain": [
       "   Action  Month  Day  Hour  Minute  Website_AOL  Website_Amazon  \\\n",
       "1       0      7   28     2       2            0               0   \n",
       "2       0      7   28     2      41            0               0   \n",
       "3       0      7   28     2      41            0               0   \n",
       "4       0      8   15    21       9            0               0   \n",
       "5       1      8   15    21      11            0               0   \n",
       "\n",
       "   Website_Atedra  Website_Craigslist.ca  Website_Expedia    ...      \\\n",
       "1               0                      0                0    ...       \n",
       "2               0                      0                0    ...       \n",
       "3               0                      0                0    ...       \n",
       "4               0                      0                0    ...       \n",
       "5               0                      0                0    ...       \n",
       "\n",
       "   Color_White  Color_Yellow  Color_other  Weekday_1  Weekday_2  Weekday_3  \\\n",
       "1            0             0            0          0          0          0   \n",
       "2            0             0            0          0          0          0   \n",
       "3            0             0            0          0          0          0   \n",
       "4            0             0            0          0          1          0   \n",
       "5            1             0            0          0          1          0   \n",
       "\n",
       "   Weekday_4  Weekday_5  Weekday_6  Weekday_7  \n",
       "1          0          1          0          0  \n",
       "2          0          1          0          0  \n",
       "3          0          1          0          0  \n",
       "4          0          0          0          0  \n",
       "5          0          0          0          0  \n",
       "\n",
       "[5 rows x 60 columns]"
      ]
     },
     "execution_count": 36,
     "metadata": {},
     "output_type": "execute_result"
    }
   ],
   "source": [
    "data_final.head()"
   ]
  },
  {
   "cell_type": "code",
   "execution_count": 37,
   "metadata": {},
   "outputs": [],
   "source": [
    "data_final_vars=data_final.columns.values.tolist()\n",
    "y = data_final['Action']\n",
    "X = data_final.iloc[:,1:61]"
   ]
  },
  {
   "cell_type": "code",
   "execution_count": 38,
   "metadata": {},
   "outputs": [
    {
     "name": "stdout",
     "output_type": "stream",
     "text": [
      "(100000,)\n",
      "(100000, 59)\n"
     ]
    }
   ],
   "source": [
    "print(y.shape)\n",
    "print(X.shape)\n"
   ]
  },
  {
   "cell_type": "markdown",
   "metadata": {},
   "source": [
    "### Create Model"
   ]
  },
  {
   "cell_type": "markdown",
   "metadata": {},
   "source": [
    "#### Logistic Regression"
   ]
  },
  {
   "cell_type": "code",
   "execution_count": 39,
   "metadata": {},
   "outputs": [],
   "source": [
    "logreg = LogisticRegression()"
   ]
  },
  {
   "cell_type": "code",
   "execution_count": 40,
   "metadata": {},
   "outputs": [],
   "source": [
    "X_train, X_test, y_train, y_test = train_test_split(X, y, test_size = 0.3, random_state = 1)"
   ]
  },
  {
   "cell_type": "code",
   "execution_count": 41,
   "metadata": {},
   "outputs": [
    {
     "data": {
      "text/plain": [
       "0.8982"
      ]
     },
     "execution_count": 41,
     "metadata": {},
     "output_type": "execute_result"
    }
   ],
   "source": [
    "# null accuracy\n",
    "max(y_test.mean(), 1 - y_test.mean())"
   ]
  },
  {
   "cell_type": "code",
   "execution_count": 42,
   "metadata": {},
   "outputs": [
    {
     "name": "stdout",
     "output_type": "stream",
     "text": [
      "(70000, 59)\n",
      "(30000, 59)\n",
      "(70000,)\n",
      "(30000,)\n"
     ]
    }
   ],
   "source": [
    "print(X_train.shape)\n",
    "print(X_test.shape)\n",
    "print(y_train.shape)\n",
    "print(y_test.shape)"
   ]
  },
  {
   "cell_type": "code",
   "execution_count": 43,
   "metadata": {},
   "outputs": [
    {
     "data": {
      "text/plain": [
       "0    63064\n",
       "1     6936\n",
       "Name: Action, dtype: int64"
      ]
     },
     "execution_count": 43,
     "metadata": {},
     "output_type": "execute_result"
    }
   ],
   "source": [
    "y_test.value_counts()\n",
    "y_train.value_counts()"
   ]
  },
  {
   "cell_type": "code",
   "execution_count": 44,
   "metadata": {},
   "outputs": [
    {
     "data": {
      "text/plain": [
       "LogisticRegression(C=1.0, class_weight=None, dual=False, fit_intercept=True,\n",
       "          intercept_scaling=1, max_iter=100, multi_class='ovr', n_jobs=1,\n",
       "          penalty='l2', random_state=None, solver='liblinear', tol=0.0001,\n",
       "          verbose=0, warm_start=False)"
      ]
     },
     "execution_count": 44,
     "metadata": {},
     "output_type": "execute_result"
    }
   ],
   "source": [
    "logreg.fit(X_train, y_train)"
   ]
  },
  {
   "cell_type": "code",
   "execution_count": 45,
   "metadata": {},
   "outputs": [
    {
     "name": "stdout",
     "output_type": "stream",
     "text": [
      "0.8982\n",
      "[[26946     0]\n",
      " [ 3054     0]]\n"
     ]
    }
   ],
   "source": [
    "y_pred = logreg.predict(X_test)\n",
    "print(metrics.accuracy_score(y_test, y_pred))\n",
    "print(metrics.confusion_matrix(y_test, y_pred))"
   ]
  },
  {
   "cell_type": "code",
   "execution_count": 46,
   "metadata": {},
   "outputs": [
    {
     "data": {
      "text/plain": [
       "(30000,)"
      ]
     },
     "execution_count": 46,
     "metadata": {},
     "output_type": "execute_result"
    }
   ],
   "source": [
    "y_pred_prob = logreg.predict_proba(X_test)[:, 1]\n",
    "y_pred_prob.shape"
   ]
  },
  {
   "cell_type": "code",
   "execution_count": 47,
   "metadata": {},
   "outputs": [
    {
     "data": {
      "text/plain": [
       "0.1391508193551032"
      ]
     },
     "execution_count": 47,
     "metadata": {},
     "output_type": "execute_result"
    }
   ],
   "source": [
    "y_pred_prob.max()"
   ]
  },
  {
   "cell_type": "code",
   "execution_count": 48,
   "metadata": {},
   "outputs": [
    {
     "data": {
      "image/png": "[encoded data removed]",
      "text/plain": [
       "<Figure size 432x288 with 1 Axes>"
      ]
     },
     "metadata": {},
     "output_type": "display_data"
    }
   ],
   "source": [
    "fpr, tpr, thresholds = metrics.roc_curve(y_test, y_pred_prob)\n",
    "plt.plot(fpr, tpr)\n",
    "plt.xlim([0.0, 1.0])\n",
    "plt.ylim([0.0, 1.0])\n",
    "plt.title('ROC Curve')\n",
    "plt.xlabel('False positive rate (1 - specificity)')\n",
    "plt.ylabel('True positive rate (sensitivity)')\n",
    "plt.grid(True)"
   ]
  },
  {
   "cell_type": "markdown",
   "metadata": {},
   "source": [
    "#### use Recursive Feature Elimination (RFE) to select feature"
   ]
  },
  {
   "cell_type": "code",
   "execution_count": 49,
   "metadata": {},
   "outputs": [
    {
     "name": "stdout",
     "output_type": "stream",
     "text": [
      "[False False False False  True False False False False False False False\n",
      " False False  True  True False False  True False False  True False False\n",
      " False  True False  True  True False False  True False False False False\n",
      " False False False False False False False False False  True  True  True\n",
      "  True  True  True  True False  True  True  True False  True False]\n",
      "[37 40 38 39  1 29 26 30  6 23 24 27 31 28  1  1 25 22  1 21 32  1 34  5\n",
      " 35  1 20  1  1  8 33  1  9 36 19 10 16 14 18  7 15 13 12 17 11  1  1  1\n",
      "  1  1  1  1  2  1  1  1  3  1  4]\n"
     ]
    }
   ],
   "source": [
    "logreg = LogisticRegression()\n",
    "rfe = RFE(logreg, 20)\n",
    "rfe = rfe.fit(X, y)\n",
    "print(rfe.support_)\n",
    "print(rfe.ranking_)"
   ]
  },
  {
   "cell_type": "code",
   "execution_count": 50,
   "metadata": {},
   "outputs": [
    {
     "data": {
      "text/plain": [
       "array(['Month', 'Day', 'Hour', 'Minute', 'Website_AOL', 'Website_Amazon',\n",
       "       'Website_Atedra', 'Website_Craigslist.ca', 'Website_Expedia',\n",
       "       'Website_Facebook', 'Website_Kijiji', 'Website_Other',\n",
       "       'Website_Sympatico', 'Website_TubeMogul', 'Website_Twitter',\n",
       "       'Website_Wayfair', 'Website_Weather', 'Website_Yahoo',\n",
       "       'Website_Youtube', 'Website_instagram.com', 'BannerSize_1200x627',\n",
       "       'BannerSize_1536x2048', 'BannerSize_160x600', 'BannerSize_1x1',\n",
       "       'BannerSize_300x250', 'BannerSize_300x50', 'BannerSize_300x600',\n",
       "       'BannerSize_320x100', 'BannerSize_320x480', 'BannerSize_320x50',\n",
       "       'BannerSize_728x90', 'BannerSize_750x125', 'BannerSize_768x1024',\n",
       "       'BannerSize_Other', 'BannerSize_other', 'Brand_Banana Republic',\n",
       "       'Brand_Burberry', \"Brand_Carter's\", 'Brand_Disney', 'Brand_Gap',\n",
       "       'Brand_JoeFresh', 'Brand_Old Navy', \"Brand_The Children's Place\",\n",
       "       'Brand_Zara', 'Brand_gymboree', 'Color_Blue', 'Color_Gold',\n",
       "       'Color_Pink', 'Color_Red', 'Color_White', 'Color_Yellow',\n",
       "       'Color_other', 'Weekday_1', 'Weekday_2', 'Weekday_3', 'Weekday_4',\n",
       "       'Weekday_5', 'Weekday_6', 'Weekday_7'], dtype=object)"
      ]
     },
     "execution_count": 50,
     "metadata": {},
     "output_type": "execute_result"
    }
   ],
   "source": [
    "X.columns.values"
   ]
  },
  {
   "cell_type": "code",
   "execution_count": 51,
   "metadata": {},
   "outputs": [
    {
     "data": {
      "text/plain": [
       "array(['Website_AOL', 'Website_Twitter', 'Website_Wayfair',\n",
       "       'Website_Youtube', 'BannerSize_1536x2048', 'BannerSize_300x50',\n",
       "       'BannerSize_320x100', 'BannerSize_320x480', 'BannerSize_750x125',\n",
       "       'Color_Blue', 'Color_Gold', 'Color_Pink', 'Color_Red',\n",
       "       'Color_White', 'Color_Yellow', 'Color_other', 'Weekday_2',\n",
       "       'Weekday_3', 'Weekday_4', 'Weekday_6'], dtype=object)"
      ]
     },
     "execution_count": 51,
     "metadata": {},
     "output_type": "execute_result"
    }
   ],
   "source": [
    "cols = X.columns.values[rfe.support_]\n",
    "cols"
   ]
  },
  {
   "cell_type": "code",
   "execution_count": 52,
   "metadata": {},
   "outputs": [],
   "source": [
    "X=data_final[cols]\n",
    "y=data_final['Action']"
   ]
  },
  {
   "cell_type": "code",
   "execution_count": 53,
   "metadata": {},
   "outputs": [
    {
     "name": "stdout",
     "output_type": "stream",
     "text": [
      "(100000, 20)\n",
      "(100000,)\n"
     ]
    }
   ],
   "source": [
    "print(X.shape)\n",
    "print(y.shape)"
   ]
  },
  {
   "cell_type": "markdown",
   "metadata": {},
   "source": [
    "Try logistic regression again with 20 selected features"
   ]
  },
  {
   "cell_type": "code",
   "execution_count": 54,
   "metadata": {},
   "outputs": [],
   "source": [
    "X_train, X_test, y_train, y_test = train_test_split(X, y, test_size = 0.3, random_state = 1)"
   ]
  },
  {
   "cell_type": "code",
   "execution_count": 55,
   "metadata": {},
   "outputs": [
    {
     "data": {
      "text/plain": [
       "0.8982"
      ]
     },
     "execution_count": 55,
     "metadata": {},
     "output_type": "execute_result"
    }
   ],
   "source": [
    "# null accuracy\n",
    "max(y_test.mean(), 1 - y_test.mean())"
   ]
  },
  {
   "cell_type": "code",
   "execution_count": 60,
   "metadata": {},
   "outputs": [
    {
     "name": "stdout",
     "output_type": "stream",
     "text": [
      "0.8982\n",
      "[[26946     0]\n",
      " [ 3054     0]]\n"
     ]
    }
   ],
   "source": [
    "logreg = LogisticRegression()\n",
    "logreg.fit(X_train, y_train)\n",
    "y_pred = logreg.predict(X_test)\n",
    "df=pd.DataFrame(y_pred)\n",
    "df.to_csv(\"ctrpredictions.csv\",index=False,header=None)\n",
    "print(metrics.accuracy_score(y_test, y_pred))\n",
    "print(metrics.confusion_matrix(y_test, y_pred))"
   ]
  },
  {
   "cell_type": "code",
   "execution_count": null,
   "metadata": {},
   "outputs": [],
   "source": []
  }
 ],
 "metadata": {
  "kernelspec": {
   "display_name": "Python 3",
   "language": "python",
   "name": "python3"
  },
  "language_info": {
   "codemirror_mode": {
    "name": "ipython",
    "version": 3
   },
   "file_extension": ".py",
   "mimetype": "text/x-python",
   "name": "python",
   "nbconvert_exporter": "python",
   "pygments_lexer": "ipython3",
   "version": "3.6.5"
  }
 },
 "nbformat": 4,
 "nbformat_minor": 2
}
